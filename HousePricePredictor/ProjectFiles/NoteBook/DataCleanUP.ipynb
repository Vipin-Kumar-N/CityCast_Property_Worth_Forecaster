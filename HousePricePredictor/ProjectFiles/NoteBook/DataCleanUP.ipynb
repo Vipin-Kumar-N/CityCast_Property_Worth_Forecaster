{
 "cells": [
  {
   "cell_type": "code",
   "execution_count": 1,
   "id": "208fed07",
   "metadata": {},
   "outputs": [],
   "source": [
    "import pandas as pd\n",
    "import numpy as np"
   ]
  },
  {
   "cell_type": "code",
   "execution_count": null,
   "id": "5228a8d2",
   "metadata": {},
   "outputs": [],
   "source": [
    "#importing DataSET in csv folder to data variable \n",
    "data=pd.read_csv('../Csv/Bengaluru_House_Data.csv')"
   ]
  }
 ],
 "metadata": {
  "kernelspec": {
   "display_name": "Python 3 (ipykernel)",
   "language": "python",
   "name": "python3"
  },
  "language_info": {
   "codemirror_mode": {
    "name": "ipython",
    "version": 3
   },
   "file_extension": ".py",
   "mimetype": "text/x-python",
   "name": "python",
   "nbconvert_exporter": "python",
   "pygments_lexer": "ipython3",
   "version": "3.9.13"
  }
 },
 "nbformat": 4,
 "nbformat_minor": 5
}
